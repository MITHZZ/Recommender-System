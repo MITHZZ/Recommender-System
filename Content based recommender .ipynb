{
 "cells": [
  {
   "cell_type": "markdown",
   "metadata": {},
   "source": [
    "# content based recommender for Dataset 20m size"
   ]
  },
  {
   "cell_type": "code",
   "execution_count": null,
   "metadata": {
    "collapsed": true
   },
   "outputs": [],
   "source": [
    "# Imports\n",
    "import pandas as pd\n",
    "import numpy as np\n",
    "from sklearn.feature_extraction.text import TfidfVectorizer\n",
    "from sklearn.metrics.pairwise import cosine_similarity"
   ]
  },
  {
   "cell_type": "code",
   "execution_count": null,
   "metadata": {
    "collapsed": true
   },
   "outputs": [],
   "source": [
    "# Read dataframes\n",
    "df_movies = pd.read_csv(r'E:\\anaconda\\fellowship\\ml-20m\\movies.csv')\n",
    "df_links = pd.read_csv(r'E:\\anaconda\\fellowship\\ml-20m\\links.csv')\n",
    "df_ratings = pd.read_csv(r'E:\\anaconda\\fellowship\\ml-20m\\ratings.csv')\n",
    "df_genome_tags = pd.read_csv(r'E:\\anaconda\\fellowship\\ml-20m\\genome-tags.csv')\n",
    "df_genome_scores = pd.read_csv(r'E:\\anaconda\\fellowship\\ml-20m\\genome-scores.csv')"
   ]
  },
  {
   "cell_type": "markdown",
   "metadata": {},
   "source": [
    "Merge scores and tags"
   ]
  },
  {
   "cell_type": "code",
   "execution_count": null,
   "metadata": {
    "collapsed": true
   },
   "outputs": [],
   "source": [
    "df_movie_tags_in_text = pd.merge(df_genome_scores, df_genome_tags, on='tagId')[['movieId', 'tag', 'relevance']]"
   ]
  },
  {
   "cell_type": "markdown",
   "metadata": {},
   "source": [
    "Only keep tags with relevance higher than 0.3"
   ]
  },
  {
   "cell_type": "code",
   "execution_count": null,
   "metadata": {
    "collapsed": true
   },
   "outputs": [],
   "source": [
    "df_movie_tags = df_genome_scores[df_genome_scores.relevance > 0.3][['movieId', 'tagId']]"
   ]
  },
  {
   "cell_type": "markdown",
   "metadata": {},
   "source": [
    "# Encode features"
   ]
  },
  {
   "cell_type": "code",
   "execution_count": null,
   "metadata": {
    "collapsed": true
   },
   "outputs": [],
   "source": [
    "\n",
    "df_tags_to_movies = pd.merge(df_movie_tags, df_genome_tags, on='tagId', how='left')[['movieId', 'tagId']]\n",
    "df_tags_to_movies['tagId'] = df_tags_to_movies.tagId.astype(str)\n",
    "\n",
    "def _concatenate_tags_of_movie(tags):\n",
    "    tags_as_str = ' '.join(set(tags))\n",
    "    return tags_as_str\n"
   ]
  },
  {
   "cell_type": "markdown",
   "metadata": {},
   "source": [
    "List of movies as per differ tag on each  "
   ]
  },
  {
   "cell_type": "code",
   "execution_count": null,
   "metadata": {
    "collapsed": true
   },
   "outputs": [],
   "source": [
    "df_tags_per_movie = df_tags_to_movies.groupby('movieId')['tagId'].agg(_concatenate_tags_of_movie)\n",
    "df_tags_per_movie.name = 'movie_tags'\n",
    "df_tags_per_movie = df_tags_per_movie.reset_index()\n",
    "\n",
    "df_tags_per_movie[df_tags_per_movie['movieId'] == 1]\n",
    "\n",
    "df_avg_ratings  = df_ratings.groupby('movieId')['rating'].agg(['mean', 'median', 'size'])\n",
    "df_avg_ratings.columns = ['rating_mean', 'rating_median', 'num_ratingsdf_tags_per_movie']\n",
    "df_avg_ratings = df_avg_ratings.reset_index()\n",
    "\n",
    "df_movies_with_ratings = pd.merge(df_movies, df_avg_ratings, how='left', on='movieId')\n",
    "\n",
    "df_data = pd.merge(df_movies_with_ratings, df_tags_per_movie, how='left', on='movieId')\n",
    "\n",
    "df_data_with_tags = df_data[~df_data.movie_tags.isnull()].reset_index(drop=True)"
   ]
  },
  {
   "cell_type": "markdown",
   "metadata": {},
   "source": [
    "# TD-IDF"
   ]
  },
  {
   "cell_type": "markdown",
   "metadata": {},
   "source": [
    "TF-IDF vectors used for list in the dataset so that we get a vector of the df_data_with_tags"
   ]
  },
  {
   "cell_type": "code",
   "execution_count": null,
   "metadata": {
    "collapsed": true
   },
   "outputs": [],
   "source": [
    "#Object initiatize the TDIF method\n",
    "tf_idf = TfidfVectorizer()"
   ]
  },
  {
   "cell_type": "code",
   "execution_count": null,
   "metadata": {
    "collapsed": true
   },
   "outputs": [],
   "source": [
    "#transform the dataframe by fiting to the tdif function\n",
    "df_movies_tf_idf_described = tf_idf.fit_transform(df_data_with_tags.movie_tags)\n"
   ]
  },
  {
   "cell_type": "markdown",
   "metadata": {},
   "source": [
    "We have the vector version of df_data_with_tags dataframe , So it make simple to find the cosine similarity."
   ]
  },
  {
   "cell_type": "code",
   "execution_count": null,
   "metadata": {
    "collapsed": true
   },
   "outputs": [],
   "source": [
    "m2m = cosine_similarity(df_movies_tf_idf_described)"
   ]
  },
  {
   "cell_type": "code",
   "execution_count": null,
   "metadata": {
    "collapsed": true
   },
   "outputs": [],
   "source": [
    "df_tfidf_m2m = pd.DataFrame(cosine_similarity(df_movies_tf_idf_described))\n",
    "index_to_movie_id = df_data_with_tags['movieId']"
   ]
  },
  {
   "cell_type": "markdown",
   "metadata": {},
   "source": [
    "Pulling out the movieid and its corresdponding values to make the matrix of vector converted cosine similarity of tags"
   ]
  },
  {
   "cell_type": "code",
   "execution_count": null,
   "metadata": {
    "collapsed": true
   },
   "outputs": [],
   "source": [
    "df_tfidf_m2m.columns = [str(index_to_movie_id[int(col)]) for col in df_tfidf_m2m.columns]\n",
    "\n",
    "df_tfidf_m2m.index = [index_to_movie_id[idx] for idx in df_tfidf_m2m.index]\n",
    "\n",
    "print(df_tfidf_m2m.head())"
   ]
  },
  {
   "cell_type": "markdown",
   "metadata": {},
   "source": [
    "# Recommeding for users let it be user 1"
   ]
  },
  {
   "cell_type": "code",
   "execution_count": null,
   "metadata": {
    "collapsed": true
   },
   "outputs": [],
   "source": [
    "df_user_ratings = df_ratings[df_ratings.userId == 1]\n",
    "\n",
    "df_user_data_with_tags = df_data_with_tags.reset_index().merge(df_user_ratings, on='movieId')\n",
    "\n",
    "print(df_user_data_with_tags[['title', 'rating']])\n"
   ]
  },
  {
   "cell_type": "code",
   "execution_count": null,
   "metadata": {
    "collapsed": true
   },
   "outputs": [],
   "source": [
    "# weight calculation of rating by dividing by 5\n",
    "\n",
    "df_user_data_with_tags['weight'] = df_user_data_with_tags['rating']/5."
   ]
  },
  {
   "cell_type": "code",
   "execution_count": null,
   "metadata": {
    "collapsed": true
   },
   "outputs": [],
   "source": [
    "#dot matrix of vectors weight and index of the df_user_data_with_tags\n",
    "\n",
    "user_profile = np.dot(df_movies_tf_idf_described[df_user_data_with_tags['index'].values].toarray().T, df_user_data_with_tags['weight'].values)"
   ]
  },
  {
   "cell_type": "code",
   "execution_count": null,
   "metadata": {
    "collapsed": true
   },
   "outputs": [],
   "source": [
    "# similarity finding between the matric of weighted and tags which are tdif\n",
    "\n",
    "C = cosine_similarity(np.atleast_2d(user_profile), df_movies_tf_idf_described)"
   ]
  },
  {
   "cell_type": "code",
   "execution_count": null,
   "metadata": {
    "collapsed": true
   },
   "outputs": [],
   "source": [
    "#Sorting the similaity list\n",
    "\n",
    "R = np.argsort(C)[:, ::-1]\n",
    "\n",
    "recommendations = [i for i in R[0] if i not in df_user_data_with_tags['index'].values]"
   ]
  },
  {
   "cell_type": "code",
   "execution_count": null,
   "metadata": {
    "collapsed": true
   },
   "outputs": [],
   "source": [
    "# list of top recommeded movies for user 1\n",
    "\n",
    "print(df_data_with_tags['title'][recommendations].head(10))"
   ]
  }
 ],
 "metadata": {
  "kernelspec": {
   "display_name": "Python [conda root]",
   "language": "python",
   "name": "conda-root-py"
  },
  "language_info": {
   "codemirror_mode": {
    "name": "ipython",
    "version": 3
   },
   "file_extension": ".py",
   "mimetype": "text/x-python",
   "name": "python",
   "nbconvert_exporter": "python",
   "pygments_lexer": "ipython3",
   "version": "3.5.2"
  }
 },
 "nbformat": 4,
 "nbformat_minor": 2
}
